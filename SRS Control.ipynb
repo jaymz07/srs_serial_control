{
 "cells": [
  {
   "cell_type": "code",
   "execution_count": 1,
   "id": "42d23aab-c179-4ba0-a60f-c8440be127c4",
   "metadata": {},
   "outputs": [],
   "source": [
    "import serial # This requires pyserial\n",
    "import time\n",
    "import numpy as np"
   ]
  },
  {
   "cell_type": "code",
   "execution_count": 2,
   "id": "da9655ab-0d53-4226-b827-f87e17cdedb1",
   "metadata": {},
   "outputs": [],
   "source": [
    "# Open the serial port\n",
    "ser = serial.Serial('/dev/ttyUSB0') # Linux system using USB to RS232 adapter\n",
    "#ser = serial.Serial('COM3') # Windows system\n",
    "\n",
    "# Set the correct communication parameters\n",
    "ser.stopbits=2\n",
    "ser.timeout = 3\n",
    "\n",
    "# How long to wait (s) between sending and receiving query\n",
    "WAIT_TIME = 0.1"
   ]
  },
  {
   "cell_type": "markdown",
   "id": "9219ba96-925c-43f3-8759-99350e4059ef",
   "metadata": {},
   "source": [
    "# Simple Example"
   ]
  },
  {
   "cell_type": "markdown",
   "id": "51c7f1dc",
   "metadata": {},
   "source": [
    "Here we read the model number of the connected device to test communication. "
   ]
  },
  {
   "cell_type": "code",
   "execution_count": 3,
   "id": "03cc2771-0d1b-45ed-9fae-c853f586801a",
   "metadata": {},
   "outputs": [
    {
     "name": "stdout",
     "output_type": "stream",
     "text": [
      "b'StanfordResearchSystems,DS345,38787,1.04\\r\\n'\n"
     ]
    }
   ],
   "source": [
    "# Send command to request model number\n",
    "ser.write(b\"*IDN?\\r\\n\")\n",
    "\n",
    "# Keep reading data until we encouter the newline character\n",
    "data = b''\n",
    "while True:\n",
    "    charOut = ser.read()\n",
    "    data = data + charOut\n",
    "    if(charOut == b'\\n'):\n",
    "        break\n",
    "        \n",
    "print(data)"
   ]
  },
  {
   "cell_type": "markdown",
   "id": "94bdb87c-eddb-465f-9448-49919ea691dd",
   "metadata": {},
   "source": [
    "# Base Communication Functions"
   ]
  },
  {
   "cell_type": "markdown",
   "id": "3a4d27e2",
   "metadata": {},
   "source": [
    "Here we encapsulate the above procedure in a single function"
   ]
  },
  {
   "cell_type": "code",
   "execution_count": 4,
   "id": "2716dbee-1ae0-4851-be58-c4e5648e9633",
   "metadata": {},
   "outputs": [],
   "source": [
    "def readData():\n",
    "    data = b''\n",
    "    while True:\n",
    "        charOut = ser.read()\n",
    "        data = data + charOut\n",
    "        if(charOut == b'\\n'):\n",
    "            break\n",
    "    return data.decode()\n",
    "\n",
    "def write(command):\n",
    "    comm = command + \"\\r\\n\"\n",
    "    ser.write(comm.encode())\n",
    "    \n",
    "def query(command):\n",
    "    write(command)\n",
    "    time.sleep(WAIT_TIME)\n",
    "    return readData()"
   ]
  },
  {
   "cell_type": "code",
   "execution_count": 5,
   "id": "766e4df6-42ca-41e3-86cc-8ace3deac446",
   "metadata": {},
   "outputs": [
    {
     "data": {
      "text/plain": [
       "'StanfordResearchSystems,DS345,38787,1.04\\r\\n'"
      ]
     },
     "execution_count": 5,
     "metadata": {},
     "output_type": "execute_result"
    }
   ],
   "source": [
    "# Ask for the model number\n",
    "query(\"*IDN?\")"
   ]
  },
  {
   "cell_type": "markdown",
   "id": "37075b7a-b610-47a5-9203-5c783cc33b2b",
   "metadata": {},
   "source": [
    "# Useful Functions"
   ]
  },
  {
   "cell_type": "code",
   "execution_count": 6,
   "id": "d811996a-b87e-4bef-a108-5bf33d4411ee",
   "metadata": {},
   "outputs": [],
   "source": [
    "# Frequency Stuff\n",
    "#-------------------------\n",
    "def read_freq():\n",
    "    return float(query(\"FREQ?\"))\n",
    "\n",
    "def set_freq(freq):\n",
    "    write(\"FREQ %.6f\" % freq)\n",
    "    \n",
    "    \n",
    "# Amplitude Stuff\n",
    "#-------------------------\n",
    "def read_amp(): #Give peak-to-peak amplitude\n",
    "    result = query(\"AMPL?\")\n",
    "    result = result.replace('\\r\\n', '')\n",
    "    out = result.replace('VR', '')\n",
    "    out = out.replace('VP', '')\n",
    "    out = float(out)\n",
    "    if('VR' in result):\n",
    "        out *= np.sqrt(2) # RMS Conversion to peak\n",
    "    return out\n",
    "\n",
    "def set_amp(val_Vpp):\n",
    "    write(\"AMPL %.2fVP\" % val_Vpp)\n",
    "    \n",
    "    \n",
    "# Offset Stuff\n",
    "#-------------------------\n",
    "def read_offset():\n",
    "    return float(query(\"OFFS?\"))\n",
    "\n",
    "def set_offset(offset_voltage):\n",
    "    write(\"OFFS %.2f\" % offset_voltage)\n",
    "    \n",
    "    \n",
    "# Waveform Stuff\n",
    "#-------------------------\n",
    "wfm_table = ['SINE', 'SQUARE', 'TRIANGLE', 'RAMP', 'NOISE', 'ARB']\n",
    "def read_waveform():\n",
    "    res = query(\"FUNC?\")\n",
    "    res = int(res)\n",
    "    return wfm_table[res]\n",
    "\n",
    "def set_waveform(waveform_type):\n",
    "    if(waveform_type not in wfm_table):\n",
    "        print(\"Unknown waveform: %s\" % waveform_type)\n",
    "        return\n",
    "    index = wfm_table.index(waveform_type)\n",
    "    write(\"FUNC %d\" % index)"
   ]
  },
  {
   "cell_type": "markdown",
   "id": "b011862d-e056-4c9f-9f77-afab4763374a",
   "metadata": {},
   "source": [
    "# Set Parameters"
   ]
  },
  {
   "cell_type": "code",
   "execution_count": 7,
   "id": "cb6d76f3-fef9-4f0b-8c5f-5a7511550792",
   "metadata": {},
   "outputs": [],
   "source": [
    "set_waveform('SINE')"
   ]
  },
  {
   "cell_type": "code",
   "execution_count": 8,
   "id": "f91a0efa-ffe7-41c9-b453-1912ee722c0c",
   "metadata": {},
   "outputs": [
    {
     "data": {
      "text/plain": [
       "'SINE'"
      ]
     },
     "execution_count": 8,
     "metadata": {},
     "output_type": "execute_result"
    }
   ],
   "source": [
    "read_waveform()"
   ]
  },
  {
   "cell_type": "code",
   "execution_count": 9,
   "id": "0df78e78-4dc9-4e81-af1c-de1730f100fe",
   "metadata": {},
   "outputs": [],
   "source": [
    "set_offset(0.0)"
   ]
  },
  {
   "cell_type": "code",
   "execution_count": 10,
   "id": "6353d559-4118-4aa9-b5d2-fda17998ff1d",
   "metadata": {},
   "outputs": [
    {
     "data": {
      "text/plain": [
       "0.0"
      ]
     },
     "execution_count": 10,
     "metadata": {},
     "output_type": "execute_result"
    }
   ],
   "source": [
    "read_offset()"
   ]
  },
  {
   "cell_type": "code",
   "execution_count": 11,
   "id": "1cc7b598-0a47-42f9-b6b6-51cc03cce1b7",
   "metadata": {},
   "outputs": [],
   "source": [
    "set_freq(1e6)"
   ]
  },
  {
   "cell_type": "code",
   "execution_count": 12,
   "id": "c231f885-7e4a-45a7-be64-36d3b6dc424d",
   "metadata": {},
   "outputs": [
    {
     "data": {
      "text/plain": [
       "1000000.0"
      ]
     },
     "execution_count": 12,
     "metadata": {},
     "output_type": "execute_result"
    }
   ],
   "source": [
    "read_freq()"
   ]
  },
  {
   "cell_type": "code",
   "execution_count": 13,
   "id": "f118e68f-f940-4f26-a10d-fc36718a8721",
   "metadata": {},
   "outputs": [],
   "source": [
    "set_amp(10.0)"
   ]
  },
  {
   "cell_type": "code",
   "execution_count": 14,
   "id": "915eb6c7-45b3-4728-9825-ce92507970e4",
   "metadata": {},
   "outputs": [
    {
     "data": {
      "text/plain": [
       "10.0"
      ]
     },
     "execution_count": 14,
     "metadata": {},
     "output_type": "execute_result"
    }
   ],
   "source": [
    "read_amp()"
   ]
  }
 ],
 "metadata": {
  "kernelspec": {
   "display_name": "Python 3 (ipykernel)",
   "language": "python",
   "name": "python3"
  },
  "language_info": {
   "codemirror_mode": {
    "name": "ipython",
    "version": 3
   },
   "file_extension": ".py",
   "mimetype": "text/x-python",
   "name": "python",
   "nbconvert_exporter": "python",
   "pygments_lexer": "ipython3",
   "version": "3.10.12"
  }
 },
 "nbformat": 4,
 "nbformat_minor": 5
}
